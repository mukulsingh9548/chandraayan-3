{
 "cells": [
  {
   "cell_type": "raw",
   "id": "7ef9dd5a",
   "metadata": {},
   "source": [
    "Parameter,Specifications\n",
    "Lunar Polar Orbit,From 170 x 36500 km to lunar polar orbit\n",
    "Mission life,\"Carrying Lander Module & Rover upto ~100 x 100 km launch injection. Subsequently, operation of experimental payload for a period of 3 to 6 months.\"\n",
    "Structure,Modified version of I-3 K\n",
    "Dry Mass,448.62 kg (including pressurant)\n",
    "Propellant Mass,1696.39 kg\n",
    "Total PM Mass,2145.01 kg\n",
    "Power Generation,\"738 W, Summer solistices and with bias\"\n",
    "Communication,S-Band Transponder (TTC) – with IDSN\n",
    "Attitude Sensors,\"CASS, IRAP, Micro star sensor\"\n",
    "Propulsion System,Bi-Propellant Propulsion System (MMH + MON3)\n",
    "undefined,undefined\n",
    "# Lander Module dataframe,undefined\n",
    "undefined,undefined\n",
    "Parameter,Specifications\n",
    "-,-\n",
    "Mission life,1 Lunar day (14 Earth days)\n",
    "Mass,1749.86 kg including Rover\n",
    "Power,738 W (Winter solstice)\n",
    "Payloads,3\n",
    "Dimensions (mm3),2000 x 2000 x 1166\n",
    "Communication,\"ISDN, Ch-2 Orbiter, Rover\"\n",
    "Landing site,\"69.367621 S, 32.348126 E\"\n",
    "undefined,undefined\n",
    "# Rover dataframe,undefined\n",
    "undefined,undefined\n",
    "Parameter,Specifications\n",
    "-,-\n",
    "Mission Life,1 Lunar day\n",
    "Mass,26 kg\n",
    "Power,50 W\n",
    "Payloads,2\n",
    "Dimensions (mm3),917 x 750 x 397\n",
    "Communication,Lander\n"
   ]
  },
  {
   "cell_type": "code",
   "execution_count": null,
   "id": "64fc9402",
   "metadata": {},
   "outputs": [],
   "source": []
  },
  {
   "cell_type": "code",
   "execution_count": null,
   "id": "5989acc6",
   "metadata": {},
   "outputs": [],
   "source": []
  }
 ],
 "metadata": {
  "kernelspec": {
   "display_name": "Python 3 (ipykernel)",
   "language": "python",
   "name": "python3"
  },
  "language_info": {
   "codemirror_mode": {
    "name": "ipython",
    "version": 3
   },
   "file_extension": ".py",
   "mimetype": "text/x-python",
   "name": "python",
   "nbconvert_exporter": "python",
   "pygments_lexer": "ipython3",
   "version": "3.11.4"
  }
 },
 "nbformat": 4,
 "nbformat_minor": 5
}
